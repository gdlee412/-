{
 "cells": [
  {
   "cell_type": "code",
   "execution_count": null,
   "id": "f431a154-757f-417e-aed3-2453101bf206",
   "metadata": {},
   "outputs": [],
   "source": [
    "import numpy as np\n",
    "import pandas as pd\n",
    "import matplotlib.pyplot as plt\n",
    "import seaborn as sns"
   ]
  },
  {
   "cell_type": "markdown",
   "id": "2b69e982-270f-4061-8f14-8e973fb287de",
   "metadata": {
    "tags": []
   },
   "source": [
    "### 2-1번 내용을 이용해 데이터셋을 불러오세요."
   ]
  },
  {
   "cell_type": "code",
   "execution_count": null,
   "id": "decb8281-d6dc-4797-a506-8860984ef7bd",
   "metadata": {},
   "outputs": [],
   "source": [
    "df_p = None\n",
    "df_w = None\n",
    "\n",
    "df = None"
   ]
  },
  {
   "cell_type": "markdown",
   "id": "a32b85be-b2c1-46ca-ae09-4962b910c3ea",
   "metadata": {},
   "source": [
    "### 전처리 전, 미세먼지 / 초미세먼지 값을 그대로 그래프로 나타내봅니다.\n",
    "이상한 값이 보이나요?"
   ]
  },
  {
   "cell_type": "code",
   "execution_count": null,
   "id": "b1d68dac-79d8-4622-85ac-7cf5fc207093",
   "metadata": {},
   "outputs": [],
   "source": [
    "df_p['PM10'].plot()\n",
    "plt.ylabel('PM10 Concentration')\n",
    "plt.show()"
   ]
  },
  {
   "cell_type": "code",
   "execution_count": null,
   "id": "d5c57b98-8a9a-4544-a656-f21b6c63a5f6",
   "metadata": {},
   "outputs": [],
   "source": [
    "df_p['PM2.5'].plot()\n",
    "plt.ylabel('PM2.5 Concentration')\n",
    "plt.show()"
   ]
  },
  {
   "cell_type": "markdown",
   "id": "84d94583-c3e0-4863-827b-5dc5fb13ddda",
   "metadata": {},
   "source": [
    "### 상관관계 히트맵을 그려봅니다."
   ]
  },
  {
   "cell_type": "code",
   "execution_count": null,
   "id": "2109fb0b-2d46-480f-8ae8-84850d55103d",
   "metadata": {},
   "outputs": [],
   "source": [
    "f, ax = plt.subplots(figsize=(9, 9))\n",
    "corr_df = None # 2-2번 풀이와 같습니다.\n",
    "\n",
    "sns.heatmap(corr_df, mask=np.triu(np.ones_like(corr_df, dtype=np.bool_)), cmap=sns.diverging_palette(220, 10, as_cmap=True),\n",
    "            vmin=-1.0, vmax=1.0, square=True, ax=ax, annot=True, fmt='.2f')"
   ]
  },
  {
   "cell_type": "markdown",
   "id": "2eb670a1-4514-43e7-b981-c06fd5d66996",
   "metadata": {
    "tags": []
   },
   "source": [
    "### 풍속과 초미세먼지 간 관계를 확인해봅니다.\n",
    "풍속과 PM2.5간 scatter plot을 사용하고, alpha값을 조절해 각 점의 투명도를 조절해보세요. 의미있는 관계가 보이나요?"
   ]
  },
  {
   "cell_type": "code",
   "execution_count": null,
   "id": "04f712e5-8b7e-4eb8-b699-c37fff0acbba",
   "metadata": {},
   "outputs": [],
   "source": []
  },
  {
   "cell_type": "markdown",
   "id": "52819e26-6675-453a-9124-30caaba2ca5b",
   "metadata": {},
   "source": [
    "### 풍향과 초미세먼지 간 관계를 확인해봅니다.\n",
    "풍향과 PM2.5간 scatter plot에서 alpha값을 조정하거나, 또는 violin plot을 사용해보세요. 의미있는 관계가 보이나요?"
   ]
  },
  {
   "cell_type": "code",
   "execution_count": null,
   "id": "b719d262-1897-4509-af57-5293fdbba35f",
   "metadata": {},
   "outputs": [],
   "source": []
  },
  {
   "cell_type": "markdown",
   "id": "376880ab-0341-4943-bbe9-13a5402bae51",
   "metadata": {
    "tags": []
   },
   "source": [
    "### 대기 이동과 초미세먼지 등급 간 관계를 확인해봅니다.\n",
    "2-3번에서 초미세먼지 등급을 계산한 내용을 이용합니다. 12주차 이론강의자료 마지막에서 급간을 hue로 이용해 sns.scatterplot를 찍어본 것과 비슷합니다.\n",
    "초미세먼지 등급을 hue로 이용하고 동/서 - 남/북 대기이동 성분을 각각 x축 - y축으로 이용해 sns.scatterplot을 그려보세요. alpha값을 크게 줘야 합니다.\n",
    "PM2.5 기준으로 데이터프레임을 오름차순 정렬해서 넣으세요. (df.sort_values)\n",
    "\n",
    "한글 폰트가 없어 오류가 뜬다면... 한글을 영어로 바꾸는 것이 가장 빠른 해결책입니다."
   ]
  },
  {
   "cell_type": "code",
   "execution_count": null,
   "id": "2ff3b6b7-187e-49e9-bd59-9e7bfdcc0fc4",
   "metadata": {},
   "outputs": [],
   "source": [
    "good_color = u'#2359C4'\n",
    "normal_color = u'#01B56E'\n",
    "bad_color = u'#F5C932'\n",
    "worst_color = u'#DA3539'\n",
    "palette = [good_color, normal_color, bad_color, worst_color]\n",
    "fig = plt.figure(figsize=(6, 6))\n",
    "\n",
    "\n",
    "\n",
    "sns.scatterplot(data=None, x=None, y=None, hue=None, alpha=0.1, palette=palette)\n",
    "\n",
    "\n",
    "\n",
    "plt.axvline(0.0, c='black')\n",
    "plt.axhline(0.0, c='black')\n",
    "plt.xlabel(\"West ↔ East (km)\")\n",
    "plt.ylabel(\"South ↔ North (km)\")\n",
    "plt.title(\"Past 24hr. Atmospheric Movement and PM2.5 Level\")\n",
    "plt.show()"
   ]
  }
 ],
 "metadata": {
  "kernelspec": {
   "display_name": "Python [conda env:tensorflow_1]",
   "language": "python",
   "name": "conda-env-tensorflow_1-py"
  },
  "language_info": {
   "codemirror_mode": {
    "name": "ipython",
    "version": 3
   },
   "file_extension": ".py",
   "mimetype": "text/x-python",
   "name": "python",
   "nbconvert_exporter": "python",
   "pygments_lexer": "ipython3",
   "version": "3.7.9"
  }
 },
 "nbformat": 4,
 "nbformat_minor": 5
}
